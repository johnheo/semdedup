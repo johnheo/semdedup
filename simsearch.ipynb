{
 "cells": [
  {
   "cell_type": "code",
   "execution_count": 38,
   "metadata": {},
   "outputs": [
    {
     "name": "stdout",
     "output_type": "stream",
     "text": [
      "torch ver:  2.0.0\n",
      "image shape:  torch.Size([1, 28, 28])\n",
      "# labels:  10\n",
      "{'T-shirt/top': 0, 'Trouser': 1, 'Pullover': 2, 'Dress': 3, 'Coat': 4, 'Sandal': 5, 'Shirt': 6, 'Sneaker': 7, 'Bag': 8, 'Ankle boot': 9}\n"
     ]
    }
   ],
   "source": [
    "# Import libraries\n",
    "import torch\n",
    "import torch.nn as nn\n",
    "import torch.nn.functional as F\n",
    "import torch.optim as optim\n",
    "print('torch ver: ', torch.__version__)\n",
    "\n",
    "import matplotlib.pyplot as plt\n",
    "\n",
    "from torchvision import datasets, transforms\n",
    "\n",
    "transform = transforms.Compose([transforms.ToTensor(), transforms.Normalize((0.5,), (0.5,)),]) \n",
    "trainset = datasets.FashionMNIST('~/.pytorch/F_MNIST_data/', download=True, train=True, transform=transform)\n",
    "testset = datasets.FashionMNIST('~/.pytorch/F_MNIST_data/', download=True, train=False, transform=transform)\n",
    "image, label = trainset[0] \n",
    "print(\"image shape: \", image.shape) # torch.Size([1, 28, 28])\n",
    "print(\"# labels: \", len(testset.classes))\n",
    "print(testset.class_to_idx)"
   ]
  },
  {
   "cell_type": "code",
   "execution_count": 39,
   "metadata": {},
   "outputs": [
    {
     "name": "stdout",
     "output_type": "stream",
     "text": [
      "Train set size: 50000, Validation set size: 10000, Test set size: 10000\n"
     ]
    }
   ],
   "source": [
    "# Final sizes are 50000, 10000, 10000\n",
    "trainset, valset = torch.utils.data.random_split(trainset, [50000, 10000])\n",
    "print(f'Train set size: {len(trainset)}, Validation set size: {len(valset)}, Test set size: {len(testset)}')\n",
    "# Shuffle the data at the start of each epoch (only useful for training set)\n",
    "batchsize = 128 # was 32\n",
    "train_loader = torch.utils.data.DataLoader(trainset, batch_size=batchsize, shuffle=True)\n",
    "val_loader = torch.utils.data.DataLoader(valset, batch_size=batchsize, shuffle=False)\n",
    "test_loader = torch.utils.data.DataLoader(testset, batch_size=batchsize, shuffle=False)"
   ]
  },
  {
   "cell_type": "code",
   "execution_count": 40,
   "metadata": {},
   "outputs": [
    {
     "name": "stdout",
     "output_type": "stream",
     "text": [
      "MPS is built? True\n",
      "k=10\n"
     ]
    },
    {
     "name": "stderr",
     "output_type": "stream",
     "text": [
      "/Users/johnheo/miniforge3/envs/499/lib/python3.9/site-packages/torch/functional.py:799: UserWarning: MPS: _unique2 op is supported natively starting from macOS 13.0. Falling back on CPU. This may have performace implications. (Triggered internally at /Users/runner/work/pytorch/pytorch/pytorch/aten/src/ATen/native/mps/operations/Unique.mm:354.)\n",
      "  output, inverse_indices, counts = torch._unique2(\n",
      "/Users/johnheo/miniforge3/envs/499/lib/python3.9/site-packages/fast_pytorch_kmeans/kmeans.py:192: UserWarning: MPS: nonzero op is supported natively starting from macOS 13.0. Falling back on CPU. This may have performance implications. (Triggered internally at /Users/runner/work/pytorch/pytorch/pytorch/aten/src/ATen/native/mps/operations/Indexing.mm:218.)\n",
      "  c_grad[c_grad!=c_grad] = 0 # remove NaNs\n"
     ]
    },
    {
     "name": "stdout",
     "output_type": "stream",
     "text": [
      "used 70 iterations (1.8262s) to cluster 50000 items into 10 clusters\n",
      "Visualize the centroids...\n"
     ]
    },
    {
     "data": {
      "image/png": "[encoded data removed]",
      "text/plain": [
       "<Figure size 1000x1000 with 3 Axes>"
      ]
     },
     "metadata": {},
     "output_type": "display_data"
    },
    {
     "name": "stdout",
     "output_type": "stream",
     "text": [
      "Centroids saved to ./centroids/torch-k=10.pt (shape: (10, 784))\n"
     ]
    }
   ],
   "source": [
    "# kmeans clustering on train data\n",
    "from utils.cluster import get_centroids\n",
    "\n",
    "print(\"MPS is built?\", torch.backends.mps.is_built())\n",
    "k_list = [10, 20, 40, 80, 160]\n",
    "k_list = [10]\n",
    "d = 'cpu'\n",
    "d = 'mps'\n",
    "for n_clusters in k_list:\n",
    "    print(f\"k={n_clusters}\")\n",
    "    kmeans, centroids = get_centroids(n_clusters, train_loader, device=d, save=True, vis=True)\n",
    "\n",
    "sklearn_execution = {\n",
    "    'k=10': \":35\",\n",
    "    'k=20': \"1:31\",\n",
    "    'k=40': \"3:26\",\n",
    "    'k=80': \"7:38\",\n",
    "    'k=160': \"14:30\",\n",
    "}\n",
    "torch_execution = { # super fast with parallelism using mps backend (m1x chip)\n",
    "    'k=10': \":01\",\n",
    "    'k=20': \":02\",\n",
    "    'k=40': \":06\",\n",
    "    'k=80': \":11\",\n",
    "    'k=160': \":21\",\n",
    "}"
   ]
  },
  {
   "cell_type": "code",
   "execution_count": 41,
   "metadata": {},
   "outputs": [],
   "source": [
    "# check if file exists with the substring k=10\n",
    "import os\n",
    "DIR = './centroids'\n",
    "SAVENAME = f'{DIR}/torch-k={n_clusters}.pt'\n",
    "if os.path.exists(SAVENAME):\n",
    "    centroids = torch.load(SAVENAME)\n"
   ]
  },
  {
   "cell_type": "code",
   "execution_count": 42,
   "metadata": {},
   "outputs": [],
   "source": [
    "import numpy as np\n",
    "\n",
    "# flatten the tensor except batch dim\n",
    "flatten = lambda x : x.view(x.size(0), -1).numpy()\n",
    "# which image is assigned to which cluster?\n",
    "assignments = []\n",
    "for image, target in train_loader:\n",
    "    feat = flatten(image)\n",
    "    closest = np.argmax(centroids @ feat.T, axis=0)\n",
    "    assignments.extend(closest)"
   ]
  },
  {
   "cell_type": "code",
   "execution_count": 43,
   "metadata": {},
   "outputs": [
    {
     "name": "stdout",
     "output_type": "stream",
     "text": [
      "cluster 0 has 3635 images\n",
      "cluster 1 has 9637 images\n",
      "cluster 2 has 6841 images\n",
      "cluster 3 has 3820 images\n",
      "cluster 4 has 4821 images\n",
      "cluster 5 has 12 images\n",
      "cluster 6 has 9006 images\n",
      "cluster 7 has 8582 images\n",
      "cluster 8 has 1559 images\n",
      "cluster 9 has 2087 images\n"
     ]
    }
   ],
   "source": [
    "# create a nested list according to assignments\n",
    "def fetch(data_loader, indices):\n",
    "    all_data = list(data_loader.dataset)  # Convert the dataset to a list\n",
    "    fetched_images = [all_data[i] for i in indices]\n",
    "    return fetched_images\n",
    "\n",
    "clustered_dataset = [[] for i in range(10)]\n",
    "\n",
    "for i in range(10):\n",
    "    idx = np.where(np.array(assignments) == i)[0]\n",
    "    print(f\"cluster {i} has {len(idx)} images\")\n",
    "    imgs = fetch(train_loader, idx)\n",
    "    clustered_dataset[i] = imgs\n"
   ]
  },
  {
   "cell_type": "code",
   "execution_count": 44,
   "metadata": {},
   "outputs": [],
   "source": [
    "#for creating custom dataset\n",
    "from torch.utils.data import Dataset\n",
    "\n",
    "class DictDataset(Dataset):\n",
    "    def __init__(self, data_dict, transform=None):\n",
    "        self.data_dict = data_dict\n",
    "        self.transform = transform\n",
    "        self.keys = list(data_dict.keys())\n",
    "        self.keys.sort()\n",
    "\n",
    "    def __len__(self):\n",
    "        return len(self.keys)\n",
    "\n",
    "    def __getitem__(self, index):\n",
    "        # Get the image data and label for the current item\n",
    "        key = self.keys[index]\n",
    "        img = self.data_dict[key]['images']\n",
    "        label = self.data_dict[key]['labels']\n",
    "\n",
    "        if self.transform is not None:\n",
    "            img = self.transform(img)\n",
    "\n",
    "        return img, label"
   ]
  },
  {
   "cell_type": "code",
   "execution_count": 45,
   "metadata": {},
   "outputs": [
    {
     "name": "stdout",
     "output_type": "stream",
     "text": [
      "24997\n"
     ]
    }
   ],
   "source": [
    "import random\n",
    "#create dataset with 50% of data\n",
    "data_dict_50 = {}\n",
    "index = 0\n",
    "for i in range(10):\n",
    "    num_items = len(clustered_dataset[i])\n",
    "    num_selected = len(clustered_dataset[i])/2\n",
    "    #select random indices\n",
    "    selected_indices = random.sample(range(num_items), int(num_selected))\n",
    "    for j in selected_indices:\n",
    "        data_dict_50[index] = {'images': clustered_dataset[i][j][0], 'labels': clustered_dataset[i][j][1]}\n",
    "        index = index+1\n",
    "\n",
    "print(len(data_dict_50))\n",
    "\n",
    "custom_dataset = DictDataset(data_dict_50)\n",
    "# Create the dataloader for the train dataset\n",
    "train_loader = torch.utils.data.DataLoader(custom_dataset, batch_size=128, shuffle=True)"
   ]
  },
  {
   "cell_type": "code",
   "execution_count": 46,
   "metadata": {},
   "outputs": [],
   "source": [
    "# visualize histogram \n",
    "import matplotlib.pyplot as plt\n",
    "import numpy as np\n",
    "\n",
    "def plot_histogram(assignments):\n",
    "    plt.hist(assignments, bins=10)\n",
    "    plt.xlabel(\"Cluster\")\n",
    "    plt.ylabel(\"Number of images\")\n",
    "    plt.title(\"Histogram of clusters\")\n",
    "    plt.show()"
   ]
  },
  {
   "cell_type": "code",
   "execution_count": 47,
   "metadata": {},
   "outputs": [
    {
     "data": {
      "image/png": "[encoded data removed]",
      "text/plain": [
       "<Figure size 640x480 with 1 Axes>"
      ]
     },
     "metadata": {},
     "output_type": "display_data"
    }
   ],
   "source": [
    "plot_histogram(assignments)"
   ]
  },
  {
   "cell_type": "code",
   "execution_count": null,
   "metadata": {},
   "outputs": [],
   "source": []
  }
 ],
 "metadata": {
  "kernelspec": {
   "display_name": "499",
   "language": "python",
   "name": "python3"
  },
  "language_info": {
   "codemirror_mode": {
    "name": "ipython",
    "version": 3
   },
   "file_extension": ".py",
   "mimetype": "text/x-python",
   "name": "python",
   "nbconvert_exporter": "python",
   "pygments_lexer": "ipython3",
   "version": "3.9.15"
  },
  "orig_nbformat": 4
 },
 "nbformat": 4,
 "nbformat_minor": 2
}
