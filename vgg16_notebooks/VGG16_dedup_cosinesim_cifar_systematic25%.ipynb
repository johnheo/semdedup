{
 "cells": [
  {
   "cell_type": "code",
   "execution_count": 25,
   "metadata": {},
   "outputs": [],
   "source": [
    "import torch\n",
    "import torchvision\n",
    "from torchvision import datasets, transforms\n",
    "import torch.optim as optim\n",
    "from sklearn.cluster import KMeans\n",
    "import json\n",
    "import numpy as np\n",
    "import os\n",
    "from tqdm import tqdm\n",
    "import time\n",
    "import random\n",
    "import torch.nn as nn\n",
    "import matplotlib.pyplot as plt\n",
    "from sklearn.metrics.pairwise import cosine_similarity\n",
    "\n"
   ]
  },
  {
   "cell_type": "code",
   "execution_count": 26,
   "metadata": {},
   "outputs": [],
   "source": [
    "# Define the transformation to convert grayscale to RGB, upscale the images, and normalize them\n",
    "transform = transforms.Compose([\n",
    "    #transforms.Grayscale(num_output_channels=3), #upscaling to rgb \n",
    "    transforms.Resize(224), # resize\n",
    "    transforms.ToTensor(),\n",
    "    transforms.Normalize(mean=[0.485, 0.456, 0.406], std=[0.229, 0.224, 0.225])\n",
    "])"
   ]
  },
  {
   "cell_type": "code",
   "execution_count": 27,
   "metadata": {},
   "outputs": [
    {
     "name": "stdout",
     "output_type": "stream",
     "text": [
      "Files already downloaded and verified\n"
     ]
    },
    {
     "name": "stderr",
     "output_type": "stream",
     "text": [
      "/home/paul/anaconda3/envs/EE499/lib/python3.9/site-packages/torchvision/models/_utils.py:208: UserWarning: The parameter 'pretrained' is deprecated since 0.13 and may be removed in the future, please use 'weights' instead.\n",
      "  warnings.warn(\n",
      "/home/paul/anaconda3/envs/EE499/lib/python3.9/site-packages/torchvision/models/_utils.py:223: UserWarning: Arguments other than a weight enum or `None` for 'weights' are deprecated since 0.13 and may be removed in the future. The current behavior is equivalent to passing `weights=VGG16_Weights.IMAGENET1K_V1`. You can also use `weights=VGG16_Weights.DEFAULT` to get the most up-to-date weights.\n",
      "  warnings.warn(msg)\n"
     ]
    }
   ],
   "source": [
    "train_dataset = torchvision.datasets.CIFAR10(root='./data', train=True,download=True, transform=transform)\n",
    "train_dataloader = torch.utils.data.DataLoader(train_dataset, batch_size=256, shuffle=True, num_workers=2)\n",
    "\n",
    "\n",
    "# Load pre-trained VGG16 model\n",
    "vgg16 = torchvision.models.vgg16(pretrained=True)\n",
    "# Modify first layer with 1 channel\n",
    "# vgg16.features[0] = torch.nn.Conv2d(1, 64, kernel_size=(3, 3), stride=(1, 1), padding=(1, 1)\n",
    "# Remove the last fully connected layer to get feature extraction layer\n",
    "vgg16.features = torch.nn.Sequential(*list(vgg16.features.children())[:-1])"
   ]
  },
  {
   "cell_type": "code",
   "execution_count": 28,
   "metadata": {},
   "outputs": [],
   "source": [
    "# Move model to GPU\n",
    "device = torch.device(\"cuda:0\" if torch.cuda.is_available() else \"cpu\")\n",
    "vgg16 = vgg16.to(device)\n"
   ]
  },
  {
   "attachments": {},
   "cell_type": "markdown",
   "metadata": {},
   "source": [
    "# Extracting Features"
   ]
  },
  {
   "cell_type": "code",
   "execution_count": 29,
   "metadata": {},
   "outputs": [
    {
     "name": "stdout",
     "output_type": "stream",
     "text": [
      "0\n",
      "1\n",
      "2\n",
      "3\n",
      "4\n",
      "5\n",
      "6\n",
      "7\n",
      "8\n",
      "9\n",
      "10\n",
      "11\n",
      "12\n",
      "13\n",
      "14\n",
      "15\n",
      "16\n",
      "17\n",
      "18\n",
      "19\n",
      "20\n",
      "21\n",
      "22\n",
      "23\n",
      "24\n",
      "25\n",
      "26\n",
      "27\n",
      "28\n",
      "29\n",
      "30\n",
      "31\n",
      "32\n",
      "33\n",
      "34\n",
      "35\n",
      "36\n",
      "37\n",
      "38\n",
      "39\n",
      "40\n",
      "41\n",
      "42\n",
      "43\n",
      "44\n",
      "45\n",
      "46\n",
      "47\n",
      "48\n",
      "49\n",
      "50\n",
      "51\n",
      "52\n",
      "53\n",
      "54\n",
      "55\n",
      "56\n",
      "57\n",
      "58\n",
      "59\n",
      "60\n",
      "61\n",
      "62\n",
      "63\n",
      "64\n",
      "65\n",
      "66\n",
      "67\n",
      "68\n",
      "69\n",
      "70\n",
      "71\n",
      "72\n",
      "73\n",
      "74\n",
      "75\n",
      "76\n",
      "77\n",
      "78\n",
      "79\n",
      "80\n",
      "81\n",
      "82\n",
      "83\n",
      "84\n",
      "85\n",
      "86\n",
      "87\n",
      "88\n",
      "89\n",
      "90\n",
      "91\n",
      "92\n",
      "93\n",
      "94\n",
      "95\n",
      "96\n",
      "97\n",
      "98\n",
      "99\n",
      "100\n",
      "101\n",
      "102\n",
      "103\n",
      "104\n",
      "105\n",
      "106\n",
      "107\n",
      "108\n",
      "109\n",
      "110\n",
      "111\n",
      "112\n",
      "113\n",
      "114\n",
      "115\n",
      "116\n",
      "117\n",
      "118\n",
      "119\n",
      "120\n",
      "121\n",
      "122\n",
      "123\n",
      "124\n",
      "125\n",
      "126\n",
      "127\n",
      "128\n",
      "129\n",
      "130\n",
      "131\n",
      "132\n",
      "133\n",
      "134\n",
      "135\n",
      "136\n",
      "137\n",
      "138\n",
      "139\n",
      "140\n",
      "141\n",
      "142\n",
      "143\n",
      "144\n",
      "145\n",
      "146\n",
      "147\n",
      "148\n",
      "149\n",
      "150\n",
      "151\n",
      "152\n",
      "153\n",
      "154\n",
      "155\n",
      "156\n",
      "157\n",
      "158\n",
      "159\n",
      "160\n",
      "161\n",
      "162\n",
      "163\n",
      "164\n",
      "165\n",
      "166\n",
      "167\n",
      "168\n",
      "169\n",
      "170\n",
      "171\n",
      "172\n",
      "173\n",
      "174\n",
      "175\n",
      "176\n",
      "177\n",
      "178\n",
      "179\n",
      "180\n",
      "181\n",
      "182\n",
      "183\n",
      "184\n",
      "185\n",
      "186\n",
      "187\n",
      "188\n",
      "189\n",
      "190\n",
      "191\n",
      "192\n",
      "193\n",
      "194\n",
      "195\n"
     ]
    }
   ],
   "source": [
    "# Extract features for each image in the dataset\n",
    "features = []\n",
    "i = 0\n",
    "with torch.no_grad():\n",
    "    for image, label in train_dataloader:\n",
    "        print(i)\n",
    "\n",
    "        image = image.to(device)\n",
    "        features.append(vgg16(image).cpu().numpy().flatten())\n",
    "        #features.append(vgg16(image.unsqueeze(0)).cpu().numpy())\n",
    "        #labels.append(labels)\n",
    "        i = i+1\n",
    "        \n"
   ]
  },
  {
   "cell_type": "code",
   "execution_count": 30,
   "metadata": {},
   "outputs": [],
   "source": [
    "# len(features)"
   ]
  },
  {
   "cell_type": "code",
   "execution_count": 31,
   "metadata": {},
   "outputs": [],
   "source": [
    "flat_list = np.concatenate(features)\n",
    "reshaped_array = flat_list.reshape(50000, 1000)\n"
   ]
  },
  {
   "cell_type": "code",
   "execution_count": 32,
   "metadata": {},
   "outputs": [],
   "source": [
    "torch.save(reshaped_array, 'cifarfeatures.pth')\n",
    "\n",
    "loaded_tensor = torch.load('cifarfeatures.pth')\n"
   ]
  },
  {
   "cell_type": "code",
   "execution_count": 33,
   "metadata": {},
   "outputs": [],
   "source": [
    "#splitting into traning features and val dataset\n",
    "\n",
    "numbers = list(range(50000))\n",
    "Train_index = random.sample(numbers, 40000)\n",
    "Val_index = [num for num in numbers if num not in Train_index]\n",
    "features = []\n",
    "for i in Train_index:\n",
    "    features.append(loaded_tensor[i])\n"
   ]
  },
  {
   "cell_type": "code",
   "execution_count": 34,
   "metadata": {},
   "outputs": [
    {
     "data": {
      "text/plain": [
       "40000"
      ]
     },
     "execution_count": 34,
     "metadata": {},
     "output_type": "execute_result"
    }
   ],
   "source": [
    "len(features)"
   ]
  },
  {
   "cell_type": "code",
   "execution_count": 35,
   "metadata": {},
   "outputs": [
    {
     "name": "stderr",
     "output_type": "stream",
     "text": [
      "/home/paul/anaconda3/envs/EE499/lib/python3.9/site-packages/sklearn/cluster/_kmeans.py:870: FutureWarning: The default value of `n_init` will change from 10 to 'auto' in 1.4. Set the value of `n_init` explicitly to suppress the warning\n",
      "  warnings.warn(\n"
     ]
    }
   ],
   "source": [
    "import numpy as np\n",
    "from sklearn.cluster import KMeans\n",
    "from sklearn.metrics.pairwise import cosine_similarity\n",
    "\n",
    "# Assuming you have already extracted features from your dataset\n",
    "features_array = np.array(features)\n",
    "\n",
    "# Perform k-means clustering\n",
    "n_clusters = 10\n",
    "kmeans = KMeans(n_clusters=n_clusters, random_state=42)\n",
    "kmeans.fit(features_array)\n",
    "\n",
    "# Get the cluster labels\n",
    "cluster_labels = kmeans.labels_\n"
   ]
  },
  {
   "cell_type": "code",
   "execution_count": 36,
   "metadata": {},
   "outputs": [
    {
     "data": {
      "image/png": "[encoded data removed]",
      "text/plain": [
       "<Figure size 1000x500 with 2 Axes>"
      ]
     },
     "metadata": {},
     "output_type": "display_data"
    }
   ],
   "source": [
    "\n",
    "import numpy as np\n",
    "\n",
    "# Group the data by cluster label and calculate cosine similarities\n",
    "grouped_data = [[] for _ in range(n_clusters)]\n",
    "for i, feature in enumerate(features_array):\n",
    "    label = cluster_labels[i]\n",
    "    grouped_data[label].append((feature, Train_index[i]))\n",
    "\n",
    "most_similar_data_by_cluster = [[] for _ in range(n_clusters)]\n",
    "legends = []\n",
    "fig, (ax1, ax2) = plt.subplots(1, 2, figsize=(10, 5))\n",
    "for i, group in enumerate(grouped_data):\n",
    "    centroid = kmeans.cluster_centers_[i]\n",
    "    similarities = cosine_similarity([centroid], [feature for feature, label in group])[0]\n",
    "    #fig[0] = plt.hist(similarities)\n",
    "    ax1.hist(similarities, bins=20)\n",
    "    legends.append(f'group{i}')\n",
    "    # Use systematic sampling to select a fixed proportion of items from the group\n",
    "    sample_size = int(np.ceil(len(group) * 0.25))\n",
    "    k = len(group) // sample_size\n",
    "    selected_indices = np.arange(0, len(group), step=k)[:sample_size]\n",
    "    selected_items = [group[j][1] for j in selected_indices]\n",
    "    most_similar_data_by_cluster[i].extend(selected_items)\n",
    "    pruned_sim = similarities[selected_indices]\n",
    "    #fig[1] = plt.hist(pruned_sim)\n",
    "    ax2.hist(pruned_sim, bins=20)\n",
    "\n",
    "plt.legend(legends)\n",
    "plt.show()"
   ]
  },
  {
   "cell_type": "code",
   "execution_count": 37,
   "metadata": {},
   "outputs": [
    {
     "name": "stdout",
     "output_type": "stream",
     "text": [
      "Files already downloaded and verified\n"
     ]
    }
   ],
   "source": [
    "transform = transforms.Compose([transforms.ToTensor(), transforms.Normalize((0.5,), (0.5,),(0.5)),transforms.Resize(224)]) \n",
    "train_dataset_john = torchvision.datasets.CIFAR10(root='./data', train=True,download=True, transform=transform)\n",
    "\n"
   ]
  },
  {
   "cell_type": "code",
   "execution_count": 38,
   "metadata": {},
   "outputs": [
    {
     "name": "stdout",
     "output_type": "stream",
     "text": [
      "Cluster | Label 0 | Label 1 | Label 2 | Label 3 | Label 4 | Label 5 | Label 6 | Label 7 | Label 8 | Label 9\n",
      "-----------------------------------------------------------------------------------------------------------\n",
      "      0 |      66 |      80 |      96 |      88 |      90 |      78 |      73 |      90 |      77 |      78\n",
      "      1 |     130 |     116 |     114 |     115 |     100 |     108 |     124 |     126 |     121 |     100\n",
      "      2 |      87 |      90 |      86 |      92 |      94 |      95 |      94 |      73 |      86 |      89\n",
      "      3 |     103 |     102 |     115 |     131 |     101 |     129 |     116 |     109 |      95 |     107\n",
      "      4 |      89 |     109 |     105 |      87 |      95 |      94 |     115 |     101 |      95 |      93\n",
      "      5 |     100 |     117 |     110 |      90 |      99 |     107 |     104 |     113 |      96 |     104\n",
      "      6 |      88 |      86 |      86 |     112 |      99 |      83 |      94 |      79 |      76 |      95\n",
      "      7 |     114 |     102 |     121 |     101 |      94 |     109 |     105 |     119 |      85 |     122\n",
      "      8 |      94 |      98 |      90 |     115 |      94 |     107 |     109 |     112 |      93 |     101\n",
      "      9 |      97 |     119 |      89 |      98 |      94 |     126 |     101 |     113 |     100 |      97\n"
     ]
    }
   ],
   "source": [
    "# Create a nested dictionary to store the counts\n",
    "cluster_counts = {cluster: {label: 0 for label in range(10)} for cluster in range(n_clusters)}\n",
    "\n",
    "# Count the number of each data label within each group\n",
    "# for label, cluster in zip(train_dataset.targets, kmeans.labels_):\n",
    "#     cluster_counts[cluster][label.item()] += 1\n",
    "for i in range(n_clusters):\n",
    "    for index in most_similar_data_by_cluster[i]:\n",
    "        cluster_counts[i][train_dataset[index][1]] += 1\n",
    "# Print the table header\n",
    "header = \"Cluster | \" + \" | \".join([f\"Label {i}\" for i in range(10)])\n",
    "print(header)\n",
    "print(\"-\" * len(header))\n",
    "\n",
    "# Print the table rows\n",
    "for cluster, label_counts in cluster_counts.items():\n",
    "    row = f\" {cluster:6} |  \" + \" |  \".join([f\"{count:6}\" for count in label_counts.values()])\n",
    "    print(row)"
   ]
  },
  {
   "attachments": {},
   "cell_type": "markdown",
   "metadata": {},
   "source": [
    "# Testing the Training Time"
   ]
  },
  {
   "cell_type": "code",
   "execution_count": 39,
   "metadata": {},
   "outputs": [],
   "source": [
    "#for creating custom dataset\n",
    "from torch.utils.data import Dataset\n",
    "\n",
    "class DictDataset(Dataset):\n",
    "    def __init__(self, data_dict, transform=None):\n",
    "        self.data_dict = data_dict\n",
    "        self.transform = transform\n",
    "        self.keys = list(data_dict.keys())\n",
    "        self.keys.sort()\n",
    "\n",
    "    def __len__(self):\n",
    "        return len(self.keys)\n",
    "\n",
    "    def __getitem__(self, index):\n",
    "        # Get the image data and label for the current item\n",
    "        key = self.keys[index]\n",
    "        img = self.data_dict[key]['images']\n",
    "        label = self.data_dict[key]['labels']\n",
    "\n",
    "        if self.transform is not None:\n",
    "            img = self.transform(img)\n",
    "\n",
    "        return img, label"
   ]
  },
  {
   "cell_type": "code",
   "execution_count": 40,
   "metadata": {},
   "outputs": [],
   "source": [
    "import torch.nn as nn\n",
    "import torch.nn.functional as F\n",
    "\n",
    "\n",
    "class Net(nn.Module):\n",
    "    def __init__(self):\n",
    "        super(Net, self).__init__()\n",
    "        self.conv1 = nn.Conv2d(in_channels=3, out_channels=16, kernel_size=3, padding=1)\n",
    "        self.pool1 = nn.MaxPool2d(kernel_size=2, stride=2)\n",
    "        self.conv2 = nn.Conv2d(in_channels=16, out_channels=32, kernel_size=3, padding=1)\n",
    "        self.pool2 = nn.MaxPool2d(kernel_size=2, stride=2)\n",
    "        self.conv3 = nn.Conv2d(in_channels=32, out_channels=64, kernel_size=3, padding=1)\n",
    "        self.pool3 = nn.MaxPool2d(kernel_size=2, stride=2)\n",
    "        self.fc1 = nn.Linear(in_features=64*4*4, out_features=128)\n",
    "        self.fc2 = nn.Linear(in_features=128, out_features=10)\n",
    "\n",
    "    def forward(self, x):\n",
    "        x = self.conv1(x)\n",
    "        x = nn.functional.relu(x)\n",
    "        x = self.pool1(x)\n",
    "        x = self.conv2(x)\n",
    "        x = nn.functional.relu(x)\n",
    "        x = self.pool2(x)\n",
    "        x = self.conv3(x)\n",
    "        x = nn.functional.relu(x)\n",
    "        x = self.pool3(x)\n",
    "        x = x.view(-1, 64*4*4)\n",
    "        x = self.fc1(x)\n",
    "        x = nn.functional.relu(x)\n",
    "        x = self.fc2(x)\n",
    "        return x\n",
    "\n",
    "\n",
    "net = Net()\n",
    "\n",
    "import torch.optim as optim\n",
    "\n",
    "criterion = nn.CrossEntropyLoss()\n",
    "optimizer = optim.SGD(net.parameters(), lr=0.001, momentum=0.9)\n",
    "\n",
    "# Define the batch size and number of epochs\n",
    "batch_size = 128\n",
    "num_epochs = 30\n"
   ]
  },
  {
   "attachments": {},
   "cell_type": "markdown",
   "metadata": {},
   "source": [
    "# Custom Dataset"
   ]
  },
  {
   "cell_type": "code",
   "execution_count": 41,
   "metadata": {},
   "outputs": [
    {
     "name": "stdout",
     "output_type": "stream",
     "text": [
      "Files already downloaded and verified\n",
      "Files already downloaded and verified\n"
     ]
    }
   ],
   "source": [
    "transform = transforms.Compose([ transforms.ToTensor(), transforms.Normalize((0.5, 0.5, 0.5), (0.5, 0.5, 0.5))]) \n",
    "train_dataset = torchvision.datasets.CIFAR10(root='./data', train=True, download=True, transform=transform)\n",
    "\n",
    "testset = torchvision.datasets.CIFAR10(root='./data', train=False,download=True, transform=transform)\n",
    "test_loader = torch.utils.data.DataLoader(testset, batch_size=128, shuffle=False)\n",
    "\n",
    "\n",
    "\n",
    "data_dict_50 = {}\n",
    "index = 0\n",
    "for i in range(n_clusters):\n",
    "    for j in most_similar_data_by_cluster[i]:\n",
    "        data_dict_50[j] = {'images': train_dataset[j][0], 'labels': train_dataset[j][1]}\n",
    "        index = index+1\n",
    "\n",
    "\n",
    "custom_dataset = DictDataset(data_dict_50)\n",
    "\n",
    "# Create the dataloader for the train dataset\n",
    "train_loader = torch.utils.data.DataLoader(custom_dataset, batch_size=128, shuffle=True)\n"
   ]
  },
  {
   "cell_type": "code",
   "execution_count": 42,
   "metadata": {},
   "outputs": [],
   "source": [
    "num_tests = 20"
   ]
  },
  {
   "cell_type": "code",
   "execution_count": 43,
   "metadata": {},
   "outputs": [
    {
     "name": "stderr",
     "output_type": "stream",
     "text": [
      "Training: 100%|██████████| 2370/2370 [00:17<00:00, 139.21it/s]\n"
     ]
    },
    {
     "name": "stdout",
     "output_type": "stream",
     "text": [
      "Test accuracy for lower 25% of cosine sim dataset is: 59.04%\n"
     ]
    },
    {
     "name": "stderr",
     "output_type": "stream",
     "text": [
      "Training: 100%|██████████| 2370/2370 [00:16<00:00, 139.42it/s]\n"
     ]
    },
    {
     "name": "stdout",
     "output_type": "stream",
     "text": [
      "Test accuracy for lower 25% of cosine sim dataset is: 60.75%\n"
     ]
    },
    {
     "name": "stderr",
     "output_type": "stream",
     "text": [
      "Training: 100%|██████████| 2370/2370 [00:17<00:00, 138.93it/s]\n"
     ]
    },
    {
     "name": "stdout",
     "output_type": "stream",
     "text": [
      "Test accuracy for lower 25% of cosine sim dataset is: 59.62%\n"
     ]
    },
    {
     "name": "stderr",
     "output_type": "stream",
     "text": [
      "Training: 100%|██████████| 2370/2370 [00:17<00:00, 134.67it/s]\n"
     ]
    },
    {
     "name": "stdout",
     "output_type": "stream",
     "text": [
      "Test accuracy for lower 25% of cosine sim dataset is: 60.51%\n"
     ]
    },
    {
     "name": "stderr",
     "output_type": "stream",
     "text": [
      "Training: 100%|██████████| 2370/2370 [00:20<00:00, 115.59it/s]\n"
     ]
    },
    {
     "name": "stdout",
     "output_type": "stream",
     "text": [
      "Test accuracy for lower 25% of cosine sim dataset is: 60.36%\n"
     ]
    },
    {
     "name": "stderr",
     "output_type": "stream",
     "text": [
      "Training: 100%|██████████| 2370/2370 [00:18<00:00, 129.60it/s]\n"
     ]
    },
    {
     "name": "stdout",
     "output_type": "stream",
     "text": [
      "Test accuracy for lower 25% of cosine sim dataset is: 58.34%\n"
     ]
    },
    {
     "name": "stderr",
     "output_type": "stream",
     "text": [
      "Training: 100%|██████████| 2370/2370 [00:18<00:00, 125.56it/s]\n"
     ]
    },
    {
     "name": "stdout",
     "output_type": "stream",
     "text": [
      "Test accuracy for lower 25% of cosine sim dataset is: 59.69%\n"
     ]
    },
    {
     "name": "stderr",
     "output_type": "stream",
     "text": [
      "Training: 100%|██████████| 2370/2370 [00:20<00:00, 115.34it/s]\n"
     ]
    },
    {
     "name": "stdout",
     "output_type": "stream",
     "text": [
      "Test accuracy for lower 25% of cosine sim dataset is: 59.46%\n"
     ]
    },
    {
     "name": "stderr",
     "output_type": "stream",
     "text": [
      "Training: 100%|██████████| 2370/2370 [00:17<00:00, 135.59it/s]\n"
     ]
    },
    {
     "name": "stdout",
     "output_type": "stream",
     "text": [
      "Test accuracy for lower 25% of cosine sim dataset is: 58.93%\n"
     ]
    },
    {
     "name": "stderr",
     "output_type": "stream",
     "text": [
      "Training: 100%|██████████| 2370/2370 [00:17<00:00, 139.32it/s]\n"
     ]
    },
    {
     "name": "stdout",
     "output_type": "stream",
     "text": [
      "Test accuracy for lower 25% of cosine sim dataset is: 60.77%\n"
     ]
    },
    {
     "name": "stderr",
     "output_type": "stream",
     "text": [
      "Training: 100%|██████████| 2370/2370 [00:19<00:00, 124.20it/s]\n"
     ]
    },
    {
     "name": "stdout",
     "output_type": "stream",
     "text": [
      "Test accuracy for lower 25% of cosine sim dataset is: 60.64%\n"
     ]
    },
    {
     "name": "stderr",
     "output_type": "stream",
     "text": [
      "Training: 100%|██████████| 2370/2370 [00:17<00:00, 137.16it/s]\n"
     ]
    },
    {
     "name": "stdout",
     "output_type": "stream",
     "text": [
      "Test accuracy for lower 25% of cosine sim dataset is: 59.05%\n"
     ]
    },
    {
     "name": "stderr",
     "output_type": "stream",
     "text": [
      "Training: 100%|██████████| 2370/2370 [00:17<00:00, 138.92it/s]\n"
     ]
    },
    {
     "name": "stdout",
     "output_type": "stream",
     "text": [
      "Test accuracy for lower 25% of cosine sim dataset is: 61.51%\n"
     ]
    },
    {
     "name": "stderr",
     "output_type": "stream",
     "text": [
      "Training: 100%|██████████| 2370/2370 [00:20<00:00, 116.24it/s]\n"
     ]
    },
    {
     "name": "stdout",
     "output_type": "stream",
     "text": [
      "Test accuracy for lower 25% of cosine sim dataset is: 60.76%\n"
     ]
    },
    {
     "name": "stderr",
     "output_type": "stream",
     "text": [
      "Training: 100%|██████████| 2370/2370 [00:17<00:00, 135.95it/s]\n"
     ]
    },
    {
     "name": "stdout",
     "output_type": "stream",
     "text": [
      "Test accuracy for lower 25% of cosine sim dataset is: 59.50%\n"
     ]
    },
    {
     "name": "stderr",
     "output_type": "stream",
     "text": [
      "Training: 100%|██████████| 2370/2370 [00:17<00:00, 139.30it/s]\n"
     ]
    },
    {
     "name": "stdout",
     "output_type": "stream",
     "text": [
      "Test accuracy for lower 25% of cosine sim dataset is: 58.42%\n"
     ]
    },
    {
     "name": "stderr",
     "output_type": "stream",
     "text": [
      "Training: 100%|██████████| 2370/2370 [00:17<00:00, 132.02it/s]\n"
     ]
    },
    {
     "name": "stdout",
     "output_type": "stream",
     "text": [
      "Test accuracy for lower 25% of cosine sim dataset is: 61.41%\n"
     ]
    },
    {
     "name": "stderr",
     "output_type": "stream",
     "text": [
      "Training: 100%|██████████| 2370/2370 [00:17<00:00, 138.09it/s]\n"
     ]
    },
    {
     "name": "stdout",
     "output_type": "stream",
     "text": [
      "Test accuracy for lower 25% of cosine sim dataset is: 61.48%\n"
     ]
    },
    {
     "name": "stderr",
     "output_type": "stream",
     "text": [
      "Training: 100%|██████████| 2370/2370 [00:17<00:00, 136.67it/s]\n"
     ]
    },
    {
     "name": "stdout",
     "output_type": "stream",
     "text": [
      "Test accuracy for lower 25% of cosine sim dataset is: 59.99%\n"
     ]
    },
    {
     "name": "stderr",
     "output_type": "stream",
     "text": [
      "Training: 100%|██████████| 2370/2370 [00:18<00:00, 131.11it/s]\n"
     ]
    },
    {
     "name": "stdout",
     "output_type": "stream",
     "text": [
      "Test accuracy for lower 25% of cosine sim dataset is: 60.49%\n"
     ]
    }
   ],
   "source": [
    "acc_dedup = []\n",
    "for i in range(num_tests):\n",
    "    # Initialize the model and optimizer\n",
    "    model1 = Net()\n",
    "    optimizer = optim.Adam(model1.parameters(), lr=0.001)\n",
    "\n",
    "\n",
    "    # training\n",
    "    total_iterations = len(train_loader) * num_epochs\n",
    "    with tqdm(total=total_iterations, desc='Training') as pbar:\n",
    "        for epoch in range(num_epochs):\n",
    "            running_loss = 0.0\n",
    "            for i, (images, labels) in enumerate(train_loader):\n",
    "                # Zero the parameter gradients\n",
    "                optimizer.zero_grad()\n",
    "\n",
    "                # Forward pass\n",
    "                outputs = model1(images)\n",
    "                #print(outputs.shape)\n",
    "                loss = criterion(outputs, labels)\n",
    "\n",
    "                # Backward pass and optimize\n",
    "                loss.backward()\n",
    "                optimizer.step()\n",
    "\n",
    "                # Update the progress bar\n",
    "                pbar.update(1)\n",
    "\n",
    "                # Print statistics\n",
    "                running_loss += loss.item()\n",
    "                if (i == len(train_loader)-1):\n",
    "                    #print(f\"Epoch [{epoch+1}/{num_epochs}], Step [{i+1}/{len(train_loader)}], Loss: {running_loss/100:.4f}\")\n",
    "                    running_loss = 0.0\n",
    "\n",
    "    correct = 0\n",
    "    total = 0\n",
    "    #test_dataset = torchvision.datasets.MNIST(root='./data', train=False, transform=transforms.ToTensor(), download=True)\n",
    "    #test_loader = torch.utils.data.DataLoader(test_dataset, batch_size=batch_size, shuffle=False)\n",
    "    #test_loader\n",
    "    with torch.no_grad():\n",
    "        for images, labels in test_loader:\n",
    "            # Forward pass\n",
    "            outputs = model1(images)\n",
    "            _, predicted = torch.max(outputs.data, 1)\n",
    "\n",
    "            total += labels.size(0)\n",
    "            correct += (predicted == labels).sum().item()\n",
    "\n",
    "    print(f\"Test accuracy for lower 25% of cosine sim dataset is: {100 * correct/total:.2f}%\")\n",
    "    acc_dedup.append(100 * correct/total)"
   ]
  },
  {
   "cell_type": "code",
   "execution_count": 44,
   "metadata": {},
   "outputs": [
    {
     "name": "stderr",
     "output_type": "stream",
     "text": [
      "Training: 100%|██████████| 2370/2370 [00:19<00:00, 118.85it/s]\n"
     ]
    },
    {
     "name": "stdout",
     "output_type": "stream",
     "text": [
      "Test accuracy for random 25% dataset is: 59.45%\n"
     ]
    },
    {
     "name": "stderr",
     "output_type": "stream",
     "text": [
      "Training: 100%|██████████| 2370/2370 [00:20<00:00, 115.77it/s]\n"
     ]
    },
    {
     "name": "stdout",
     "output_type": "stream",
     "text": [
      "Test accuracy for random 25% dataset is: 61.09%\n"
     ]
    },
    {
     "name": "stderr",
     "output_type": "stream",
     "text": [
      "Training: 100%|██████████| 2370/2370 [00:18<00:00, 130.92it/s]\n"
     ]
    },
    {
     "name": "stdout",
     "output_type": "stream",
     "text": [
      "Test accuracy for random 25% dataset is: 59.34%\n"
     ]
    },
    {
     "name": "stderr",
     "output_type": "stream",
     "text": [
      "Training: 100%|██████████| 2370/2370 [00:17<00:00, 131.76it/s]\n"
     ]
    },
    {
     "name": "stdout",
     "output_type": "stream",
     "text": [
      "Test accuracy for random 25% dataset is: 59.84%\n"
     ]
    },
    {
     "name": "stderr",
     "output_type": "stream",
     "text": [
      "Training: 100%|██████████| 2370/2370 [00:19<00:00, 124.45it/s]\n"
     ]
    },
    {
     "name": "stdout",
     "output_type": "stream",
     "text": [
      "Test accuracy for random 25% dataset is: 61.27%\n"
     ]
    },
    {
     "name": "stderr",
     "output_type": "stream",
     "text": [
      "Training: 100%|██████████| 2370/2370 [00:16<00:00, 142.72it/s]\n"
     ]
    },
    {
     "name": "stdout",
     "output_type": "stream",
     "text": [
      "Test accuracy for random 25% dataset is: 61.31%\n"
     ]
    },
    {
     "name": "stderr",
     "output_type": "stream",
     "text": [
      "Training: 100%|██████████| 2370/2370 [00:16<00:00, 147.47it/s]\n"
     ]
    },
    {
     "name": "stdout",
     "output_type": "stream",
     "text": [
      "Test accuracy for random 25% dataset is: 60.35%\n"
     ]
    },
    {
     "name": "stderr",
     "output_type": "stream",
     "text": [
      "Training: 100%|██████████| 2370/2370 [00:17<00:00, 134.56it/s]\n"
     ]
    },
    {
     "name": "stdout",
     "output_type": "stream",
     "text": [
      "Test accuracy for random 25% dataset is: 61.92%\n"
     ]
    },
    {
     "name": "stderr",
     "output_type": "stream",
     "text": [
      "Training: 100%|██████████| 2370/2370 [00:16<00:00, 140.53it/s]\n"
     ]
    },
    {
     "name": "stdout",
     "output_type": "stream",
     "text": [
      "Test accuracy for random 25% dataset is: 60.46%\n"
     ]
    },
    {
     "name": "stderr",
     "output_type": "stream",
     "text": [
      "Training: 100%|██████████| 2370/2370 [00:17<00:00, 135.20it/s]\n"
     ]
    },
    {
     "name": "stdout",
     "output_type": "stream",
     "text": [
      "Test accuracy for random 25% dataset is: 58.79%\n"
     ]
    },
    {
     "name": "stderr",
     "output_type": "stream",
     "text": [
      "Training: 100%|██████████| 2370/2370 [00:17<00:00, 138.86it/s]\n"
     ]
    },
    {
     "name": "stdout",
     "output_type": "stream",
     "text": [
      "Test accuracy for random 25% dataset is: 60.94%\n"
     ]
    },
    {
     "name": "stderr",
     "output_type": "stream",
     "text": [
      "Training: 100%|██████████| 2370/2370 [00:16<00:00, 144.73it/s]\n"
     ]
    },
    {
     "name": "stdout",
     "output_type": "stream",
     "text": [
      "Test accuracy for random 25% dataset is: 60.22%\n"
     ]
    },
    {
     "name": "stderr",
     "output_type": "stream",
     "text": [
      "Training: 100%|██████████| 2370/2370 [00:16<00:00, 146.17it/s]\n"
     ]
    },
    {
     "name": "stdout",
     "output_type": "stream",
     "text": [
      "Test accuracy for random 25% dataset is: 62.01%\n"
     ]
    },
    {
     "name": "stderr",
     "output_type": "stream",
     "text": [
      "Training: 100%|██████████| 2370/2370 [00:16<00:00, 140.24it/s]\n"
     ]
    },
    {
     "name": "stdout",
     "output_type": "stream",
     "text": [
      "Test accuracy for random 25% dataset is: 60.79%\n"
     ]
    },
    {
     "name": "stderr",
     "output_type": "stream",
     "text": [
      "Training: 100%|██████████| 2370/2370 [00:17<00:00, 136.95it/s]\n"
     ]
    },
    {
     "name": "stdout",
     "output_type": "stream",
     "text": [
      "Test accuracy for random 25% dataset is: 60.76%\n"
     ]
    },
    {
     "name": "stderr",
     "output_type": "stream",
     "text": [
      "Training: 100%|██████████| 2370/2370 [00:16<00:00, 144.49it/s]\n"
     ]
    },
    {
     "name": "stdout",
     "output_type": "stream",
     "text": [
      "Test accuracy for random 25% dataset is: 61.16%\n"
     ]
    },
    {
     "name": "stderr",
     "output_type": "stream",
     "text": [
      "Training: 100%|██████████| 2370/2370 [00:17<00:00, 135.80it/s]\n"
     ]
    },
    {
     "name": "stdout",
     "output_type": "stream",
     "text": [
      "Test accuracy for random 25% dataset is: 61.54%\n"
     ]
    },
    {
     "name": "stderr",
     "output_type": "stream",
     "text": [
      "Training: 100%|██████████| 2370/2370 [00:16<00:00, 140.27it/s]\n"
     ]
    },
    {
     "name": "stdout",
     "output_type": "stream",
     "text": [
      "Test accuracy for random 25% dataset is: 59.13%\n"
     ]
    },
    {
     "name": "stderr",
     "output_type": "stream",
     "text": [
      "Training: 100%|██████████| 2370/2370 [00:16<00:00, 144.52it/s]\n"
     ]
    },
    {
     "name": "stdout",
     "output_type": "stream",
     "text": [
      "Test accuracy for random 25% dataset is: 59.35%\n"
     ]
    },
    {
     "name": "stderr",
     "output_type": "stream",
     "text": [
      "Training: 100%|██████████| 2370/2370 [00:17<00:00, 134.63it/s]\n"
     ]
    },
    {
     "name": "stdout",
     "output_type": "stream",
     "text": [
      "Test accuracy for random 25% dataset is: 60.04%\n"
     ]
    }
   ],
   "source": [
    "acc_random = []\n",
    "import random\n",
    "for i in range(num_tests):\n",
    "    data_dict_50 = {}\n",
    "    index = 0\n",
    "    random_numbers = random.sample(range(40000), int(40000*0.25))\n",
    "    for k in random_numbers:\n",
    "        j= Train_index[k]\n",
    "        data_dict_50[j] = {'images': train_dataset[j][0], 'labels': train_dataset[j][1]}\n",
    "        index = index+1\n",
    "\n",
    "    custom_dataset = DictDataset(data_dict_50)\n",
    "\n",
    "    # Initialize the model and optimizer\n",
    "    model1 = Net()\n",
    "    optimizer = optim.Adam(model1.parameters(), lr=0.001)\n",
    "\n",
    "    # Create the dataloader for the train dataset\n",
    "    train_loader = torch.utils.data.DataLoader(custom_dataset, batch_size=batch_size, shuffle=True)\n",
    "\n",
    "    # training\n",
    "    total_iterations = len(train_loader) * num_epochs\n",
    "    with tqdm(total=total_iterations, desc='Training') as pbar:\n",
    "        for epoch in range(num_epochs):\n",
    "            running_loss = 0.0\n",
    "            for i, (images, labels) in enumerate(train_loader):\n",
    "                # Zero the parameter gradients\n",
    "                optimizer.zero_grad()\n",
    "\n",
    "                # Forward pass\n",
    "                outputs = model1(images)\n",
    "                loss = criterion(outputs, labels)\n",
    "\n",
    "                # Backward pass and optimize\n",
    "                loss.backward()\n",
    "                optimizer.step()\n",
    "\n",
    "                # Update the progress bar\n",
    "                pbar.update(1)\n",
    "\n",
    "                # Print statistics\n",
    "                running_loss += loss.item()\n",
    "                if (i == len(train_loader)-1):\n",
    "                    #print(f\"Epoch [{epoch+1}/{num_epochs}], Step [{i+1}/{len(train_loader)}], Loss: {running_loss/100:.4f}\")\n",
    "                    running_loss = 0.0\n",
    "\n",
    "    correct = 0\n",
    "    total = 0\n",
    "    #test_dataset = torchvision.datasets.MNIST(root='./data', train=False, transform=transforms.ToTensor(), download=True)\n",
    "    #test_loader = torch.utils.data.DataLoader(test_dataset, batch_size=batch_size, shuffle=False)\n",
    "    with torch.no_grad():\n",
    "        for images, labels in test_loader:\n",
    "            # Forward pass\n",
    "            outputs = model1(images)\n",
    "            _, predicted = torch.max(outputs.data, 1)\n",
    "\n",
    "            total += labels.size(0)\n",
    "            correct += (predicted == labels).sum().item()\n",
    "\n",
    "    print(f\"Test accuracy for random 25% dataset is: {100 * correct/total:.2f}%\")\n",
    "    acc_random.append(100 * correct/total)"
   ]
  },
  {
   "cell_type": "code",
   "execution_count": 45,
   "metadata": {},
   "outputs": [
    {
     "data": {
      "image/png": "[encoded data removed]",
      "text/plain": [
       "<Figure size 640x480 with 1 Axes>"
      ]
     },
     "metadata": {},
     "output_type": "display_data"
    }
   ],
   "source": [
    "#plt.plot(acc_dedup[:20], 'r', label='acc_dedup')  # 'r' sets the color to red\n",
    "#plt.plot(acc_dedup[-20:], label='acc_random')\n",
    "\n",
    "# Create a list of zeros with the same length as the input lists\n",
    "zeros = [0] * num_tests\n",
    "\n",
    "# Create a scatter plot\n",
    "plt.scatter(acc_dedup, zeros, label = 'dedup')\n",
    "plt.scatter(acc_random, zeros, label = 'random')\n",
    "\n",
    "# Set the Y limits to 0\n",
    "#plt.ylim(ymin=0)\n",
    "\n",
    "# Add axis labels and a title\n",
    "plt.xlabel('X values')\n",
    "plt.legend()\n",
    "\n",
    "# Show the plot\n",
    "plt.show()"
   ]
  },
  {
   "cell_type": "code",
   "execution_count": 46,
   "metadata": {},
   "outputs": [
    {
     "data": {
      "text/plain": [
       "[59.04,\n",
       " 60.75,\n",
       " 59.62,\n",
       " 60.51,\n",
       " 60.36,\n",
       " 58.34,\n",
       " 59.69,\n",
       " 59.46,\n",
       " 58.93,\n",
       " 60.77,\n",
       " 60.64,\n",
       " 59.05,\n",
       " 61.51,\n",
       " 60.76,\n",
       " 59.5,\n",
       " 58.42,\n",
       " 61.41,\n",
       " 61.48,\n",
       " 59.99,\n",
       " 60.49]"
      ]
     },
     "execution_count": 46,
     "metadata": {},
     "output_type": "execute_result"
    }
   ],
   "source": [
    "acc_dedup"
   ]
  },
  {
   "cell_type": "code",
   "execution_count": 47,
   "metadata": {},
   "outputs": [
    {
     "data": {
      "text/plain": [
       "[59.45,\n",
       " 61.09,\n",
       " 59.34,\n",
       " 59.84,\n",
       " 61.27,\n",
       " 61.31,\n",
       " 60.35,\n",
       " 61.92,\n",
       " 60.46,\n",
       " 58.79,\n",
       " 60.94,\n",
       " 60.22,\n",
       " 62.01,\n",
       " 60.79,\n",
       " 60.76,\n",
       " 61.16,\n",
       " 61.54,\n",
       " 59.13,\n",
       " 59.35,\n",
       " 60.04]"
      ]
     },
     "execution_count": 47,
     "metadata": {},
     "output_type": "execute_result"
    }
   ],
   "source": [
    "acc_random"
   ]
  },
  {
   "cell_type": "code",
   "execution_count": null,
   "metadata": {},
   "outputs": [],
   "source": []
  }
 ],
 "metadata": {
  "kernelspec": {
   "display_name": "Python (myenv)",
   "language": "python",
   "name": "ee499"
  },
  "language_info": {
   "codemirror_mode": {
    "name": "ipython",
    "version": 3
   },
   "file_extension": ".py",
   "mimetype": "text/x-python",
   "name": "python",
   "nbconvert_exporter": "python",
   "pygments_lexer": "ipython3",
   "version": "3.9.16"
  }
 },
 "nbformat": 4,
 "nbformat_minor": 2
}
