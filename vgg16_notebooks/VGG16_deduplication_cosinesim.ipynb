{
 "cells": [
  {
   "cell_type": "code",
   "execution_count": 4,
   "metadata": {},
   "outputs": [],
   "source": [
    "import torch\n",
    "import torchvision\n",
    "from torchvision import datasets, transforms\n",
    "import torch.optim as optim\n",
    "from sklearn.cluster import KMeans\n",
    "import json\n",
    "import numpy as np\n",
    "import os\n",
    "from tqdm import tqdm\n",
    "import time\n",
    "import random\n",
    "import torch.nn as nn\n",
    "import matplotlib.pyplot as plt\n",
    "from sklearn.metrics.pairwise import cosine_similarity\n",
    "\n"
   ]
  },
  {
   "cell_type": "code",
   "execution_count": 218,
   "metadata": {},
   "outputs": [],
   "source": [
    "# Define the transformation to convert grayscale to RGB, upscale the images, and normalize them\n",
    "transform = transforms.Compose([\n",
    "    transforms.Grayscale(num_output_channels=3), #upscaling to rgb \n",
    "    transforms.Resize(224), # resize\n",
    "    transforms.ToTensor(),\n",
    "    transforms.Normalize(mean=[0.485, 0.456, 0.406], std=[0.229, 0.224, 0.225])\n",
    "])"
   ]
  },
  {
   "cell_type": "code",
   "execution_count": 219,
   "metadata": {},
   "outputs": [
    {
     "name": "stderr",
     "output_type": "stream",
     "text": [
      "C:\\Users\\paul8\\AppData\\Local\\Packages\\PythonSoftwareFoundation.Python.3.9_qbz5n2kfra8p0\\LocalCache\\local-packages\\Python39\\site-packages\\torchvision\\models\\_utils.py:208: UserWarning: The parameter 'pretrained' is deprecated since 0.13 and may be removed in the future, please use 'weights' instead.\n",
      "  warnings.warn(\n",
      "C:\\Users\\paul8\\AppData\\Local\\Packages\\PythonSoftwareFoundation.Python.3.9_qbz5n2kfra8p0\\LocalCache\\local-packages\\Python39\\site-packages\\torchvision\\models\\_utils.py:223: UserWarning: Arguments other than a weight enum or `None` for 'weights' are deprecated since 0.13 and may be removed in the future. The current behavior is equivalent to passing `weights=VGG16_Weights.IMAGENET1K_V1`. You can also use `weights=VGG16_Weights.DEFAULT` to get the most up-to-date weights.\n",
      "  warnings.warn(msg)\n"
     ]
    }
   ],
   "source": [
    "train_dataset = torchvision.datasets.FashionMNIST(root='./data', train=True, download=True, transform=transform)\n",
    "train_dataloader = torch.utils.data.DataLoader(train_dataset, batch_size=64, shuffle=True, num_workers=2)\n",
    "\n",
    "transform = transforms.Compose([transforms.ToTensor(), transforms.Normalize((0.5,), (0.5,)),]) \n",
    "testset = datasets.FashionMNIST('~/.pytorch/F_MNIST_data/', download=True, train=False, transform=transform)\n",
    "test_loader = torch.utils.data.DataLoader(testset, batch_size=64, shuffle=False)\n",
    "# Load pre-trained VGG16 model\n",
    "vgg16 = torchvision.models.vgg16(pretrained=True)\n",
    "# Modify first layer with 1 channel\n",
    "# vgg16.features[0] = torch.nn.Conv2d(1, 64, kernel_size=(3, 3), stride=(1, 1), padding=(1, 1)\n",
    "# Remove the last fully connected layer to get feature extraction layer\n",
    "vgg16.features = torch.nn.Sequential(*list(vgg16.features.children())[:-1])"
   ]
  },
  {
   "cell_type": "code",
   "execution_count": 7,
   "metadata": {},
   "outputs": [],
   "source": [
    "# # Move model to GPU\n",
    "# device = torch.device(\"cuda:0\" if torch.cuda.is_available() else \"cpu\")\n",
    "# vgg16 = vgg16.to(device)\n"
   ]
  },
  {
   "attachments": {},
   "cell_type": "markdown",
   "metadata": {},
   "source": [
    "# Extracting Features"
   ]
  },
  {
   "cell_type": "code",
   "execution_count": 8,
   "metadata": {},
   "outputs": [],
   "source": [
    "# # Extract features for each image in the dataset\n",
    "# features = []\n",
    "# i = 0\n",
    "# with torch.no_grad():\n",
    "#     for image, label in train_dataloader:\n",
    "#         #print(i)\n",
    "\n",
    "#         image = image.to(device)\n",
    "#         features.append(vgg16(image.unsqueeze(0)).cpu().numpy().flatten())\n",
    "#         #features.append(vgg16(image.unsqueeze(0)).cpu().numpy())\n",
    "#         #labels.append(labels)\n",
    "#         #i = i+1\n"
   ]
  },
  {
   "cell_type": "code",
   "execution_count": 9,
   "metadata": {},
   "outputs": [],
   "source": [
    "#torch.save(features, 'fashionmnistfeatures.pth')\n",
    "\n",
    "loaded_tensor = torch.load('fashionmnistfeatures.pth')\n"
   ]
  },
  {
   "cell_type": "code",
   "execution_count": 10,
   "metadata": {},
   "outputs": [
    {
     "data": {
      "text/plain": [
       "60000"
      ]
     },
     "execution_count": 10,
     "metadata": {},
     "output_type": "execute_result"
    }
   ],
   "source": [
    "len(loaded_tensor)"
   ]
  },
  {
   "cell_type": "code",
   "execution_count": 11,
   "metadata": {},
   "outputs": [],
   "source": [
    "#splitting into traning features and val dataset\n",
    "\n",
    "numbers = list(range(60000))\n",
    "Train_index = random.sample(numbers, 50000)\n",
    "Val_index = [num for num in numbers if num not in Train_index]\n",
    "features = []\n",
    "for i in Train_index:\n",
    "    features.append(loaded_tensor[i])\n"
   ]
  },
  {
   "cell_type": "code",
   "execution_count": 12,
   "metadata": {},
   "outputs": [
    {
     "data": {
      "text/plain": [
       "50000"
      ]
     },
     "execution_count": 12,
     "metadata": {},
     "output_type": "execute_result"
    }
   ],
   "source": [
    "len(features)"
   ]
  },
  {
   "cell_type": "code",
   "execution_count": 132,
   "metadata": {},
   "outputs": [
    {
     "name": "stderr",
     "output_type": "stream",
     "text": [
      "C:\\Users\\paul8\\AppData\\Local\\Packages\\PythonSoftwareFoundation.Python.3.9_qbz5n2kfra8p0\\LocalCache\\local-packages\\Python39\\site-packages\\sklearn\\cluster\\_kmeans.py:870: FutureWarning: The default value of `n_init` will change from 10 to 'auto' in 1.4. Set the value of `n_init` explicitly to suppress the warning\n",
      "  warnings.warn(\n"
     ]
    }
   ],
   "source": [
    "import numpy as np\n",
    "from sklearn.cluster import KMeans\n",
    "from sklearn.metrics.pairwise import cosine_similarity\n",
    "\n",
    "# Assuming you have already extracted features from your dataset\n",
    "features_array = np.array(features)\n",
    "\n",
    "# Perform k-means clustering\n",
    "n_clusters = 20\n",
    "kmeans = KMeans(n_clusters=n_clusters, random_state=42)\n",
    "kmeans.fit(features_array)\n",
    "\n",
    "# Get the cluster labels\n",
    "cluster_labels = kmeans.labels_\n"
   ]
  },
  {
   "cell_type": "code",
   "execution_count": 187,
   "metadata": {},
   "outputs": [
    {
     "data": {
      "image/png": "[encoded data removed]",
      "text/plain": [
       "<Figure size 1000x500 with 2 Axes>"
      ]
     },
     "metadata": {},
     "output_type": "display_data"
    }
   ],
   "source": [
    "\n",
    "# Group the data by cluster label and calculate cosine similarities\n",
    "grouped_data = [[] for _ in range(n_clusters)]\n",
    "for i, feature in enumerate(features_array):\n",
    "    label = cluster_labels[i]\n",
    "    grouped_data[label].append((feature, Train_index[i]))\n",
    "\n",
    "\n",
    "most_similar_data_by_cluster= [[] for _ in range(n_clusters)]\n",
    "legends = []\n",
    "fig, (ax1, ax2) = plt.subplots(1, 2, figsize=(10, 5))\n",
    "for i, group in enumerate(grouped_data):\n",
    "    centroid = kmeans.cluster_centers_[i]\n",
    "    similarities = cosine_similarity([centroid], [feature for feature, label in group])[0]\n",
    "    #fig[0] = plt.hist(similarities)\n",
    "    ax1.hist(similarities, bins=20)\n",
    "    legends.append(f'group{i}')\n",
    "    sorted_indices = np.argsort(similarities)[::-1]  # Reverse sort order to get highest similarities first\n",
    "    #most_similar_indices = sorted_indices[:int(len(group)*0.25)]  # Keep the top 25% of most similar \n",
    "    most_similar_indices = sorted_indices[-int(len(group)*0.25):]\n",
    "    most_similar_items = [(group[j][1]) for j in most_similar_indices]\n",
    "    most_similar_data_by_cluster[i].extend(most_similar_items)\n",
    "    pruned_sim = similarities[most_similar_indices]\n",
    "    #fig[1] = plt.hist(pruned_sim)\n",
    "    ax2.hist(pruned_sim, bins=20)\n",
    "    \n",
    "    if i>5:\n",
    "        break\n",
    "plt.show()\n"
   ]
  },
  {
   "cell_type": "code",
   "execution_count": 216,
   "metadata": {},
   "outputs": [
    {
     "name": "stdout",
     "output_type": "stream",
     "text": [
      "47546\n"
     ]
    }
   ],
   "source": [
    "img_index = grouped_data[5][sorted_indices[0]][1]\n",
    "print (img_index)"
   ]
  },
  {
   "cell_type": "code",
   "execution_count": 230,
   "metadata": {},
   "outputs": [
    {
     "data": {
      "image/png": "[encoded data removed]",
      "text/plain": [
       "<Figure size 1000x1000 with 10 Axes>"
      ]
     },
     "metadata": {},
     "output_type": "display_data"
    }
   ],
   "source": [
    "transform = transforms.Compose([transforms.ToTensor(), transforms.Normalize((0.5,), (0.5,)),]) \n",
    "train_dataset_john = datasets.FashionMNIST('~/.pytorch/F_MNIST_data/', download=True, train=True, transform=transform)\n",
    "\n",
    "#img_index= most_similar_data_by_cluster[0][0]\n",
    "fig, axes = plt.subplots(2, 5, figsize=(10, 10))\n",
    "\n",
    "for i, ax in enumerate(axes.flat):\n",
    "\n",
    "    img_index = grouped_data[5][sorted_indices[i]][1]\n",
    "    ax.imshow(train_dataset_john[img_index][0].permute(1, 2, 0))\n",
    "\n",
    "plt.tight_layout()\n",
    "plt.show()\n"
   ]
  },
  {
   "cell_type": "code",
   "execution_count": 188,
   "metadata": {},
   "outputs": [
    {
     "name": "stdout",
     "output_type": "stream",
     "text": [
      "Cluster | Label 0 | Label 1 | Label 2 | Label 3 | Label 4 | Label 5 | Label 6 | Label 7 | Label 8 | Label 9\n",
      "-----------------------------------------------------------------------------------------------------------\n",
      "      0 |      57 |       6 |      28 |      79 |      43 |       3 |     192 |       0 |      41 |       9\n",
      "      1 |      31 |     681 |      24 |     134 |      12 |       1 |      14 |       0 |      17 |       4\n",
      "      2 |       9 |       2 |       4 |       2 |       2 |     358 |      15 |      88 |      94 |      89\n",
      "      3 |       0 |       0 |       4 |       0 |       0 |     135 |       0 |     450 |      76 |      56\n",
      "      4 |     100 |      10 |       9 |     345 |      94 |       0 |      87 |       0 |      26 |       4\n",
      "      5 |      95 |      21 |      69 |      46 |      45 |      16 |      69 |       2 |     221 |       5\n",
      "      6 |      48 |     135 |       8 |     340 |      20 |       5 |      52 |       0 |      15 |       9\n",
      "      7 |       0 |       0 |       0 |       0 |       0 |       0 |       0 |       0 |       0 |       0\n",
      "      8 |       0 |       0 |       0 |       0 |       0 |       0 |       0 |       0 |       0 |       0\n",
      "      9 |       0 |       0 |       0 |       0 |       0 |       0 |       0 |       0 |       0 |       0\n",
      "     10 |       0 |       0 |       0 |       0 |       0 |       0 |       0 |       0 |       0 |       0\n",
      "     11 |       0 |       0 |       0 |       0 |       0 |       0 |       0 |       0 |       0 |       0\n",
      "     12 |       0 |       0 |       0 |       0 |       0 |       0 |       0 |       0 |       0 |       0\n",
      "     13 |       0 |       0 |       0 |       0 |       0 |       0 |       0 |       0 |       0 |       0\n",
      "     14 |       0 |       0 |       0 |       0 |       0 |       0 |       0 |       0 |       0 |       0\n",
      "     15 |       0 |       0 |       0 |       0 |       0 |       0 |       0 |       0 |       0 |       0\n",
      "     16 |       0 |       0 |       0 |       0 |       0 |       0 |       0 |       0 |       0 |       0\n",
      "     17 |       0 |       0 |       0 |       0 |       0 |       0 |       0 |       0 |       0 |       0\n",
      "     18 |       0 |       0 |       0 |       0 |       0 |       0 |       0 |       0 |       0 |       0\n",
      "     19 |       0 |       0 |       0 |       0 |       0 |       0 |       0 |       0 |       0 |       0\n"
     ]
    }
   ],
   "source": [
    "# Create a nested dictionary to store the counts\n",
    "cluster_counts = {cluster: {label: 0 for label in range(10)} for cluster in range(n_clusters)}\n",
    "\n",
    "# Count the number of each data label within each group\n",
    "# for label, cluster in zip(train_dataset.targets, kmeans.labels_):\n",
    "#     cluster_counts[cluster][label.item()] += 1\n",
    "for i in range(n_clusters):\n",
    "    for index in most_similar_data_by_cluster[i]:\n",
    "        cluster_counts[i][train_dataset[index][1]] += 1\n",
    "# Print the table header\n",
    "header = \"Cluster | \" + \" | \".join([f\"Label {i}\" for i in range(10)])\n",
    "print(header)\n",
    "print(\"-\" * len(header))\n",
    "\n",
    "# Print the table rows\n",
    "for cluster, label_counts in cluster_counts.items():\n",
    "    row = f\" {cluster:6} |  \" + \" |  \".join([f\"{count:6}\" for count in label_counts.values()])\n",
    "    print(row)"
   ]
  },
  {
   "attachments": {},
   "cell_type": "markdown",
   "metadata": {},
   "source": [
    "# Testing the Training Time"
   ]
  },
  {
   "cell_type": "code",
   "execution_count": 149,
   "metadata": {},
   "outputs": [],
   "source": [
    "#for creating custom dataset\n",
    "from torch.utils.data import Dataset\n",
    "\n",
    "class DictDataset(Dataset):\n",
    "    def __init__(self, data_dict, transform=None):\n",
    "        self.data_dict = data_dict\n",
    "        self.transform = transform\n",
    "        self.keys = list(data_dict.keys())\n",
    "        self.keys.sort()\n",
    "\n",
    "    def __len__(self):\n",
    "        return len(self.keys)\n",
    "\n",
    "    def __getitem__(self, index):\n",
    "        # Get the image data and label for the current item\n",
    "        key = self.keys[index]\n",
    "        img = self.data_dict[key]['images']\n",
    "        label = self.data_dict[key]['labels']\n",
    "\n",
    "        if self.transform is not None:\n",
    "            img = self.transform(img)\n",
    "\n",
    "        return img, label"
   ]
  },
  {
   "cell_type": "code",
   "execution_count": 150,
   "metadata": {},
   "outputs": [],
   "source": [
    "# Define the MLP model\n",
    "class MLP(nn.Module):\n",
    "    def __init__(self):\n",
    "        super().__init__()\n",
    "        self.fc1 = nn.Linear(28*28, 128)\n",
    "        self.fc2 = nn.Linear(128, 64)\n",
    "        self.fc3 = nn.Linear(64, 10)\n",
    "\n",
    "    def forward(self, x):\n",
    "        x = x.view(-1, 28*28) # Flatten the input image\n",
    "        x = nn.functional.relu(self.fc1(x))\n",
    "        x = nn.functional.relu(self.fc2(x))\n",
    "        x = self.fc3(x)\n",
    "        return x\n",
    "\n",
    "# Initialize the model and optimizer\n",
    "model = MLP()\n",
    "optimizer = optim.Adam(model.parameters(), lr=0.001)\n",
    "\n",
    "# Define the loss function\n",
    "criterion = nn.CrossEntropyLoss()\n",
    "\n",
    "# Define the batch size and number of epochs\n",
    "batch_size = 128\n",
    "num_epochs = 30\n"
   ]
  },
  {
   "attachments": {},
   "cell_type": "markdown",
   "metadata": {},
   "source": [
    "# Custom Dataset"
   ]
  },
  {
   "cell_type": "code",
   "execution_count": 151,
   "metadata": {},
   "outputs": [],
   "source": [
    "transform = transforms.Compose([transforms.ToTensor(), transforms.Normalize((0.5,), (0.5,)),]) \n",
    "train_dataset = datasets.FashionMNIST('~/.pytorch/F_MNIST_data/', download=True, train=True, transform=transform)\n",
    "\n",
    "data_dict_50 = {}\n",
    "index = 0\n",
    "for i in range(n_clusters):\n",
    "    for j in most_similar_data_by_cluster[i]:\n",
    "        data_dict_50[j] = {'images': train_dataset[j][0], 'labels': train_dataset[j][1]}\n",
    "        index = index+1\n",
    "\n",
    "\n",
    "custom_dataset = DictDataset(data_dict_50)\n",
    "\n",
    "# Create the dataloader for the train dataset\n",
    "train_loader = torch.utils.data.DataLoader(custom_dataset, batch_size=128, shuffle=True)\n"
   ]
  },
  {
   "cell_type": "code",
   "execution_count": 155,
   "metadata": {},
   "outputs": [
    {
     "name": "stderr",
     "output_type": "stream",
     "text": [
      "Training: 100%|██████████| 2940/2940 [00:15<00:00, 193.01it/s]\n"
     ]
    },
    {
     "name": "stdout",
     "output_type": "stream",
     "text": [
      "Test accuracy for lower 25% of cosine sim dataset is: 85.04%\n"
     ]
    },
    {
     "name": "stderr",
     "output_type": "stream",
     "text": [
      "Training: 100%|██████████| 2940/2940 [00:18<00:00, 158.30it/s]\n"
     ]
    },
    {
     "name": "stdout",
     "output_type": "stream",
     "text": [
      "Test accuracy for lower 25% of cosine sim dataset is: 85.74%\n"
     ]
    },
    {
     "name": "stderr",
     "output_type": "stream",
     "text": [
      "Training: 100%|██████████| 2940/2940 [00:17<00:00, 164.29it/s]\n"
     ]
    },
    {
     "name": "stdout",
     "output_type": "stream",
     "text": [
      "Test accuracy for lower 25% of cosine sim dataset is: 85.28%\n"
     ]
    },
    {
     "name": "stderr",
     "output_type": "stream",
     "text": [
      "Training: 100%|██████████| 2940/2940 [00:18<00:00, 161.72it/s]\n"
     ]
    },
    {
     "name": "stdout",
     "output_type": "stream",
     "text": [
      "Test accuracy for lower 25% of cosine sim dataset is: 85.39%\n"
     ]
    },
    {
     "name": "stderr",
     "output_type": "stream",
     "text": [
      "Training: 100%|██████████| 2940/2940 [00:13<00:00, 216.73it/s]\n"
     ]
    },
    {
     "name": "stdout",
     "output_type": "stream",
     "text": [
      "Test accuracy for lower 25% of cosine sim dataset is: 86.06%\n"
     ]
    },
    {
     "name": "stderr",
     "output_type": "stream",
     "text": [
      "Training: 100%|██████████| 2940/2940 [00:13<00:00, 219.62it/s]\n"
     ]
    },
    {
     "name": "stdout",
     "output_type": "stream",
     "text": [
      "Test accuracy for lower 25% of cosine sim dataset is: 84.71%\n"
     ]
    },
    {
     "name": "stderr",
     "output_type": "stream",
     "text": [
      "Training: 100%|██████████| 2940/2940 [00:13<00:00, 215.97it/s]\n"
     ]
    },
    {
     "name": "stdout",
     "output_type": "stream",
     "text": [
      "Test accuracy for lower 25% of cosine sim dataset is: 85.26%\n"
     ]
    },
    {
     "name": "stderr",
     "output_type": "stream",
     "text": [
      "Training: 100%|██████████| 2940/2940 [00:13<00:00, 211.44it/s]\n"
     ]
    },
    {
     "name": "stdout",
     "output_type": "stream",
     "text": [
      "Test accuracy for lower 25% of cosine sim dataset is: 85.52%\n"
     ]
    },
    {
     "name": "stderr",
     "output_type": "stream",
     "text": [
      "Training: 100%|██████████| 2940/2940 [00:19<00:00, 151.77it/s]\n"
     ]
    },
    {
     "name": "stdout",
     "output_type": "stream",
     "text": [
      "Test accuracy for lower 25% of cosine sim dataset is: 85.62%\n"
     ]
    },
    {
     "name": "stderr",
     "output_type": "stream",
     "text": [
      "Training: 100%|██████████| 2940/2940 [00:15<00:00, 194.64it/s]\n"
     ]
    },
    {
     "name": "stdout",
     "output_type": "stream",
     "text": [
      "Test accuracy for lower 25% of cosine sim dataset is: 85.60%\n"
     ]
    },
    {
     "name": "stderr",
     "output_type": "stream",
     "text": [
      "Training: 100%|██████████| 2940/2940 [00:13<00:00, 214.55it/s]\n"
     ]
    },
    {
     "name": "stdout",
     "output_type": "stream",
     "text": [
      "Test accuracy for lower 25% of cosine sim dataset is: 85.77%\n"
     ]
    },
    {
     "name": "stderr",
     "output_type": "stream",
     "text": [
      "Training: 100%|██████████| 2940/2940 [00:13<00:00, 223.52it/s]\n"
     ]
    },
    {
     "name": "stdout",
     "output_type": "stream",
     "text": [
      "Test accuracy for lower 25% of cosine sim dataset is: 85.93%\n"
     ]
    },
    {
     "name": "stderr",
     "output_type": "stream",
     "text": [
      "Training: 100%|██████████| 2940/2940 [00:14<00:00, 201.28it/s]\n"
     ]
    },
    {
     "name": "stdout",
     "output_type": "stream",
     "text": [
      "Test accuracy for lower 25% of cosine sim dataset is: 85.98%\n"
     ]
    },
    {
     "name": "stderr",
     "output_type": "stream",
     "text": [
      "Training: 100%|██████████| 2940/2940 [00:13<00:00, 212.84it/s]\n"
     ]
    },
    {
     "name": "stdout",
     "output_type": "stream",
     "text": [
      "Test accuracy for lower 25% of cosine sim dataset is: 85.68%\n"
     ]
    },
    {
     "name": "stderr",
     "output_type": "stream",
     "text": [
      "Training: 100%|██████████| 2940/2940 [00:13<00:00, 225.68it/s]\n"
     ]
    },
    {
     "name": "stdout",
     "output_type": "stream",
     "text": [
      "Test accuracy for lower 25% of cosine sim dataset is: 85.53%\n"
     ]
    },
    {
     "name": "stderr",
     "output_type": "stream",
     "text": [
      "Training: 100%|██████████| 2940/2940 [00:13<00:00, 221.68it/s]\n"
     ]
    },
    {
     "name": "stdout",
     "output_type": "stream",
     "text": [
      "Test accuracy for lower 25% of cosine sim dataset is: 85.47%\n"
     ]
    },
    {
     "name": "stderr",
     "output_type": "stream",
     "text": [
      "Training: 100%|██████████| 2940/2940 [00:13<00:00, 224.01it/s]\n"
     ]
    },
    {
     "name": "stdout",
     "output_type": "stream",
     "text": [
      "Test accuracy for lower 25% of cosine sim dataset is: 85.62%\n"
     ]
    },
    {
     "name": "stderr",
     "output_type": "stream",
     "text": [
      "Training: 100%|██████████| 2940/2940 [00:13<00:00, 224.22it/s]\n"
     ]
    },
    {
     "name": "stdout",
     "output_type": "stream",
     "text": [
      "Test accuracy for lower 25% of cosine sim dataset is: 85.60%\n"
     ]
    },
    {
     "name": "stderr",
     "output_type": "stream",
     "text": [
      "Training: 100%|██████████| 2940/2940 [00:12<00:00, 228.12it/s]\n"
     ]
    },
    {
     "name": "stdout",
     "output_type": "stream",
     "text": [
      "Test accuracy for lower 25% of cosine sim dataset is: 85.67%\n"
     ]
    },
    {
     "name": "stderr",
     "output_type": "stream",
     "text": [
      "Training: 100%|██████████| 2940/2940 [00:13<00:00, 224.97it/s]\n"
     ]
    },
    {
     "name": "stdout",
     "output_type": "stream",
     "text": [
      "Test accuracy for lower 25% of cosine sim dataset is: 85.42%\n"
     ]
    }
   ],
   "source": [
    "acc_dedup = []\n",
    "for i in range(20):\n",
    "    # Initialize the model and optimizer\n",
    "    model1 = MLP()\n",
    "    optimizer = optim.Adam(model1.parameters(), lr=0.001)\n",
    "\n",
    "\n",
    "    # training\n",
    "    total_iterations = len(train_loader) * num_epochs\n",
    "    with tqdm(total=total_iterations, desc='Training') as pbar:\n",
    "        for epoch in range(num_epochs):\n",
    "            running_loss = 0.0\n",
    "            for i, (images, labels) in enumerate(train_loader):\n",
    "                # Zero the parameter gradients\n",
    "                optimizer.zero_grad()\n",
    "\n",
    "                # Forward pass\n",
    "                outputs = model1(images)\n",
    "                #print(outputs.shape)\n",
    "                loss = criterion(outputs, labels)\n",
    "\n",
    "                # Backward pass and optimize\n",
    "                loss.backward()\n",
    "                optimizer.step()\n",
    "\n",
    "                # Update the progress bar\n",
    "                pbar.update(1)\n",
    "\n",
    "                # Print statistics\n",
    "                running_loss += loss.item()\n",
    "                if (i == len(train_loader)-1):\n",
    "                    #print(f\"Epoch [{epoch+1}/{num_epochs}], Step [{i+1}/{len(train_loader)}], Loss: {running_loss/100:.4f}\")\n",
    "                    running_loss = 0.0\n",
    "\n",
    "    correct = 0\n",
    "    total = 0\n",
    "    #test_dataset = torchvision.datasets.MNIST(root='./data', train=False, transform=transforms.ToTensor(), download=True)\n",
    "    #test_loader = torch.utils.data.DataLoader(test_dataset, batch_size=batch_size, shuffle=False)\n",
    "    #test_loader\n",
    "    with torch.no_grad():\n",
    "        for images, labels in test_loader:\n",
    "            # Forward pass\n",
    "            outputs = model1(images)\n",
    "            _, predicted = torch.max(outputs.data, 1)\n",
    "\n",
    "            total += labels.size(0)\n",
    "            correct += (predicted == labels).sum().item()\n",
    "\n",
    "    print(f\"Test accuracy for lower 25% of cosine sim dataset is: {100 * correct/total:.2f}%\")\n",
    "    acc_dedup.append(100 * correct/total)"
   ]
  },
  {
   "cell_type": "code",
   "execution_count": 156,
   "metadata": {},
   "outputs": [
    {
     "name": "stderr",
     "output_type": "stream",
     "text": [
      "Training: 100%|██████████| 2940/2940 [00:12<00:00, 227.34it/s]\n"
     ]
    },
    {
     "name": "stdout",
     "output_type": "stream",
     "text": [
      "Test accuracy for random 25% dataset is: 85.40%\n"
     ]
    },
    {
     "name": "stderr",
     "output_type": "stream",
     "text": [
      "Training: 100%|██████████| 2940/2940 [00:13<00:00, 224.60it/s]\n"
     ]
    },
    {
     "name": "stdout",
     "output_type": "stream",
     "text": [
      "Test accuracy for random 25% dataset is: 86.19%\n"
     ]
    },
    {
     "name": "stderr",
     "output_type": "stream",
     "text": [
      "Training: 100%|██████████| 2940/2940 [00:13<00:00, 220.26it/s]\n"
     ]
    },
    {
     "name": "stdout",
     "output_type": "stream",
     "text": [
      "Test accuracy for random 25% dataset is: 85.10%\n"
     ]
    },
    {
     "name": "stderr",
     "output_type": "stream",
     "text": [
      "Training: 100%|██████████| 2940/2940 [00:13<00:00, 212.19it/s]\n"
     ]
    },
    {
     "name": "stdout",
     "output_type": "stream",
     "text": [
      "Test accuracy for random 25% dataset is: 85.15%\n"
     ]
    },
    {
     "name": "stderr",
     "output_type": "stream",
     "text": [
      "Training: 100%|██████████| 2940/2940 [00:12<00:00, 232.32it/s]\n"
     ]
    },
    {
     "name": "stdout",
     "output_type": "stream",
     "text": [
      "Test accuracy for random 25% dataset is: 84.42%\n"
     ]
    },
    {
     "name": "stderr",
     "output_type": "stream",
     "text": [
      "Training: 100%|██████████| 2940/2940 [00:13<00:00, 220.63it/s]\n"
     ]
    },
    {
     "name": "stdout",
     "output_type": "stream",
     "text": [
      "Test accuracy for random 25% dataset is: 85.59%\n"
     ]
    },
    {
     "name": "stderr",
     "output_type": "stream",
     "text": [
      "Training: 100%|██████████| 2940/2940 [00:13<00:00, 225.92it/s]\n"
     ]
    },
    {
     "name": "stdout",
     "output_type": "stream",
     "text": [
      "Test accuracy for random 25% dataset is: 85.74%\n"
     ]
    },
    {
     "name": "stderr",
     "output_type": "stream",
     "text": [
      "Training: 100%|██████████| 2940/2940 [00:12<00:00, 234.86it/s]\n"
     ]
    },
    {
     "name": "stdout",
     "output_type": "stream",
     "text": [
      "Test accuracy for random 25% dataset is: 85.41%\n"
     ]
    },
    {
     "name": "stderr",
     "output_type": "stream",
     "text": [
      "Training: 100%|██████████| 2940/2940 [00:13<00:00, 224.99it/s]\n"
     ]
    },
    {
     "name": "stdout",
     "output_type": "stream",
     "text": [
      "Test accuracy for random 25% dataset is: 85.47%\n"
     ]
    },
    {
     "name": "stderr",
     "output_type": "stream",
     "text": [
      "Training: 100%|██████████| 2940/2940 [00:12<00:00, 226.48it/s]\n"
     ]
    },
    {
     "name": "stdout",
     "output_type": "stream",
     "text": [
      "Test accuracy for random 25% dataset is: 85.12%\n"
     ]
    },
    {
     "name": "stderr",
     "output_type": "stream",
     "text": [
      "Training: 100%|██████████| 2940/2940 [00:12<00:00, 227.05it/s]\n"
     ]
    },
    {
     "name": "stdout",
     "output_type": "stream",
     "text": [
      "Test accuracy for random 25% dataset is: 84.28%\n"
     ]
    },
    {
     "name": "stderr",
     "output_type": "stream",
     "text": [
      "Training: 100%|██████████| 2940/2940 [00:13<00:00, 217.34it/s]\n"
     ]
    },
    {
     "name": "stdout",
     "output_type": "stream",
     "text": [
      "Test accuracy for random 25% dataset is: 86.25%\n"
     ]
    },
    {
     "name": "stderr",
     "output_type": "stream",
     "text": [
      "Training: 100%|██████████| 2940/2940 [00:21<00:00, 135.67it/s]\n"
     ]
    },
    {
     "name": "stdout",
     "output_type": "stream",
     "text": [
      "Test accuracy for random 25% dataset is: 84.24%\n"
     ]
    },
    {
     "name": "stderr",
     "output_type": "stream",
     "text": [
      "Training: 100%|██████████| 2940/2940 [00:17<00:00, 164.79it/s]\n"
     ]
    },
    {
     "name": "stdout",
     "output_type": "stream",
     "text": [
      "Test accuracy for random 25% dataset is: 85.58%\n"
     ]
    },
    {
     "name": "stderr",
     "output_type": "stream",
     "text": [
      "Training: 100%|██████████| 2940/2940 [00:18<00:00, 155.79it/s]\n"
     ]
    },
    {
     "name": "stdout",
     "output_type": "stream",
     "text": [
      "Test accuracy for random 25% dataset is: 85.34%\n"
     ]
    },
    {
     "name": "stderr",
     "output_type": "stream",
     "text": [
      "Training: 100%|██████████| 2940/2940 [00:21<00:00, 133.71it/s]\n"
     ]
    },
    {
     "name": "stdout",
     "output_type": "stream",
     "text": [
      "Test accuracy for random 25% dataset is: 84.62%\n"
     ]
    },
    {
     "name": "stderr",
     "output_type": "stream",
     "text": [
      "Training: 100%|██████████| 2940/2940 [00:18<00:00, 155.26it/s]\n"
     ]
    },
    {
     "name": "stdout",
     "output_type": "stream",
     "text": [
      "Test accuracy for random 25% dataset is: 85.59%\n"
     ]
    },
    {
     "name": "stderr",
     "output_type": "stream",
     "text": [
      "Training: 100%|██████████| 2940/2940 [00:19<00:00, 151.02it/s]\n"
     ]
    },
    {
     "name": "stdout",
     "output_type": "stream",
     "text": [
      "Test accuracy for random 25% dataset is: 85.71%\n"
     ]
    },
    {
     "name": "stderr",
     "output_type": "stream",
     "text": [
      "Training: 100%|██████████| 2940/2940 [00:18<00:00, 155.64it/s]\n"
     ]
    },
    {
     "name": "stdout",
     "output_type": "stream",
     "text": [
      "Test accuracy for random 25% dataset is: 85.45%\n"
     ]
    },
    {
     "name": "stderr",
     "output_type": "stream",
     "text": [
      "Training: 100%|██████████| 2940/2940 [00:22<00:00, 128.59it/s]\n"
     ]
    },
    {
     "name": "stdout",
     "output_type": "stream",
     "text": [
      "Test accuracy for random 25% dataset is: 85.36%\n"
     ]
    }
   ],
   "source": [
    "acc_random = []\n",
    "\n",
    "for i in range(20):\n",
    "    data_dict_50 = {}\n",
    "    index = 0\n",
    "    random_numbers = random.sample(range(50000), int(50000*0.25))\n",
    "    for k in random_numbers:\n",
    "        j= Train_index[k]\n",
    "        data_dict_50[j] = {'images': train_dataset[j][0], 'labels': train_dataset[j][1]}\n",
    "        index = index+1\n",
    "\n",
    "    custom_dataset = DictDataset(data_dict_50)\n",
    "\n",
    "    # Initialize the model and optimizer\n",
    "    model1 = MLP()\n",
    "    optimizer = optim.Adam(model1.parameters(), lr=0.001)\n",
    "\n",
    "    # Create the dataloader for the train dataset\n",
    "    train_loader = torch.utils.data.DataLoader(custom_dataset, batch_size=batch_size, shuffle=True)\n",
    "\n",
    "    # training\n",
    "    total_iterations = len(train_loader) * num_epochs\n",
    "    with tqdm(total=total_iterations, desc='Training') as pbar:\n",
    "        for epoch in range(num_epochs):\n",
    "            running_loss = 0.0\n",
    "            for i, (images, labels) in enumerate(train_loader):\n",
    "                # Zero the parameter gradients\n",
    "                optimizer.zero_grad()\n",
    "\n",
    "                # Forward pass\n",
    "                outputs = model1(images)\n",
    "                loss = criterion(outputs, labels)\n",
    "\n",
    "                # Backward pass and optimize\n",
    "                loss.backward()\n",
    "                optimizer.step()\n",
    "\n",
    "                # Update the progress bar\n",
    "                pbar.update(1)\n",
    "\n",
    "                # Print statistics\n",
    "                running_loss += loss.item()\n",
    "                if (i == len(train_loader)-1):\n",
    "                    #print(f\"Epoch [{epoch+1}/{num_epochs}], Step [{i+1}/{len(train_loader)}], Loss: {running_loss/100:.4f}\")\n",
    "                    running_loss = 0.0\n",
    "\n",
    "    correct = 0\n",
    "    total = 0\n",
    "    #test_dataset = torchvision.datasets.MNIST(root='./data', train=False, transform=transforms.ToTensor(), download=True)\n",
    "    #test_loader = torch.utils.data.DataLoader(test_dataset, batch_size=batch_size, shuffle=False)\n",
    "    with torch.no_grad():\n",
    "        for images, labels in test_loader:\n",
    "            # Forward pass\n",
    "            outputs = model1(images)\n",
    "            _, predicted = torch.max(outputs.data, 1)\n",
    "\n",
    "            total += labels.size(0)\n",
    "            correct += (predicted == labels).sum().item()\n",
    "\n",
    "    print(f\"Test accuracy for random 25% dataset is: {100 * correct/total:.2f}%\")\n",
    "    acc_dedup.append(100 * correct/total)"
   ]
  },
  {
   "cell_type": "code",
   "execution_count": 172,
   "metadata": {},
   "outputs": [
    {
     "data": {
      "image/png": "[encoded data removed]",
      "text/plain": [
       "<Figure size 640x480 with 1 Axes>"
      ]
     },
     "metadata": {},
     "output_type": "display_data"
    }
   ],
   "source": [
    "#plt.plot(acc_dedup[:20], 'r', label='acc_dedup')  # 'r' sets the color to red\n",
    "#plt.plot(acc_dedup[-20:], label='acc_random')\n",
    "\n",
    "# Create a list of zeros with the same length as the input lists\n",
    "zeros = [0] * 20\n",
    "\n",
    "# Create a scatter plot\n",
    "plt.scatter(acc_dedup[:20], zeros, label = 'dedup')\n",
    "plt.scatter(acc_dedup[-20:], zeros, label = 'random')\n",
    "\n",
    "# Set the Y limits to 0\n",
    "#plt.ylim(ymin=0)\n",
    "\n",
    "# Add axis labels and a title\n",
    "plt.xlabel('X values')\n",
    "plt.legend()\n",
    "\n",
    "# Show the plot\n",
    "plt.show()"
   ]
  },
  {
   "cell_type": "code",
   "execution_count": 174,
   "metadata": {},
   "outputs": [
    {
     "data": {
      "text/plain": [
       "[85.4,\n",
       " 86.19,\n",
       " 85.1,\n",
       " 85.15,\n",
       " 84.42,\n",
       " 85.59,\n",
       " 85.74,\n",
       " 85.41,\n",
       " 85.47,\n",
       " 85.12,\n",
       " 84.28,\n",
       " 86.25,\n",
       " 84.24,\n",
       " 85.58,\n",
       " 85.34,\n",
       " 84.62,\n",
       " 85.59,\n",
       " 85.71,\n",
       " 85.45,\n",
       " 85.36]"
      ]
     },
     "execution_count": 174,
     "metadata": {},
     "output_type": "execute_result"
    }
   ],
   "source": [
    "acc_dedup[-20:]"
   ]
  },
  {
   "cell_type": "code",
   "execution_count": null,
   "metadata": {},
   "outputs": [],
   "source": []
  }
 ],
 "metadata": {
  "kernelspec": {
   "display_name": "Python 3",
   "language": "python",
   "name": "python3"
  },
  "language_info": {
   "codemirror_mode": {
    "name": "ipython",
    "version": 3
   },
   "file_extension": ".py",
   "mimetype": "text/x-python",
   "name": "python",
   "nbconvert_exporter": "python",
   "pygments_lexer": "ipython3",
   "version": "3.9.13"
  },
  "orig_nbformat": 4
 },
 "nbformat": 4,
 "nbformat_minor": 2
}
